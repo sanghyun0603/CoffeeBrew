{
 "cells": [
  {
   "cell_type": "code",
   "execution_count": 1,
   "id": "2c7cc6fb-5313-43d5-90e0-19834ec9092b",
   "metadata": {
    "tags": []
   },
   "outputs": [],
   "source": [
    "import os\n",
    "import os.path as path\n",
    "import gc\n",
    "import re\n",
    "import math\n",
    "import json\n",
    "import random"
   ]
  },
  {
   "cell_type": "code",
   "execution_count": 2,
   "id": "cdbb2ec9-e92a-4ef1-8825-411a55705bc1",
   "metadata": {},
   "outputs": [
    {
     "data": {
      "text/plain": [
       "'2023/03/31 12:00:00'"
      ]
     },
     "execution_count": 2,
     "metadata": {},
     "output_type": "execute_result"
    }
   ],
   "source": [
    "from datetime import datetime\n",
    "import time\n",
    "\n",
    "datetime(2023,3,31,12).strftime(\"%Y-%m-%d %H:%M:%S.%f\")\n",
    "# YYYY-mm-dd HH:MM:SS.ffffff\n",
    "# 2023-03-31 10:31:34.649919\n",
    "datetime(2023,3,31,12).strftime(\"%Y%m%d%H%M%S\")    \n",
    "# YYYYmmddHHMMSS\n",
    "# 20220121003758\n",
    "datetime(2023,3,31,12).strftime(\"%Y/%m/%d %H:%M:%S\")  \n",
    "# YYYY/mm/dd HH:MM:SS \n",
    "# 2022/01/21/ 00:37:58"
   ]
  },
  {
   "cell_type": "code",
   "execution_count": 3,
   "id": "688aeb4b-4c2c-495e-9926-066fede33d4a",
   "metadata": {},
   "outputs": [
    {
     "name": "stdout",
     "output_type": "stream",
     "text": [
      "1677639600 1680231600 2592\n"
     ]
    }
   ],
   "source": [
    "start = int(time.mktime(datetime(2023,3,1,12).timetuple()))\n",
    "end = int(time.mktime(datetime(2023,3,31,12).timetuple()))\n",
    "step = (end - start) // 1000\n",
    "print(start, end, step)\n",
    "time_range = range(start, end, step)"
   ]
  },
  {
   "cell_type": "code",
   "execution_count": 4,
   "id": "8195f572-7c71-44eb-9dbc-f6fb19359e7d",
   "metadata": {
    "tags": []
   },
   "outputs": [],
   "source": [
    "import numpy as np\n",
    "import pandas as pd\n",
    "pd.set_option('display.max_row', 50)\n",
    "pd.set_option('display.max_columns', 100)"
   ]
  },
  {
   "cell_type": "code",
   "execution_count": 5,
   "id": "dfae756d-ba86-4bee-bcb1-85d7c61a1364",
   "metadata": {
    "tags": []
   },
   "outputs": [
    {
     "name": "stdout",
     "output_type": "stream",
     "text": [
      "..\n",
      ".\n"
     ]
    }
   ],
   "source": [
    "# 디렉토리 기본 경로 설정\n",
    "DIR_PATH = path.join('..')\n",
    "DIR_SAVE_PATH = path.join('.')\n",
    "\n",
    "print(DIR_PATH)\n",
    "print(DIR_SAVE_PATH)"
   ]
  },
  {
   "cell_type": "code",
   "execution_count": 6,
   "id": "86efcc0e-63ca-482c-b6f8-fe6c8b4100ca",
   "metadata": {
    "tags": []
   },
   "outputs": [
    {
     "name": "stdout",
     "output_type": "stream",
     "text": [
      "idx              int64\n",
      "created_date    object\n",
      "updated_date    object\n",
      "age_range       object\n",
      "expired         object\n",
      "gender          object\n",
      "hashcode        object\n",
      "member_email    object\n",
      "nickname        object\n",
      "profileImg      object\n",
      "role            object\n",
      "sns_type        object\n",
      "dtype: object\n",
      "(1000, 12)\n"
     ]
    },
    {
     "data": {
      "text/html": [
       "<div>\n",
       "<style scoped>\n",
       "    .dataframe tbody tr th:only-of-type {\n",
       "        vertical-align: middle;\n",
       "    }\n",
       "\n",
       "    .dataframe tbody tr th {\n",
       "        vertical-align: top;\n",
       "    }\n",
       "\n",
       "    .dataframe thead th {\n",
       "        text-align: right;\n",
       "    }\n",
       "</style>\n",
       "<table border=\"1\" class=\"dataframe\">\n",
       "  <thead>\n",
       "    <tr style=\"text-align: right;\">\n",
       "      <th></th>\n",
       "      <th>idx</th>\n",
       "      <th>created_date</th>\n",
       "      <th>updated_date</th>\n",
       "      <th>age_range</th>\n",
       "      <th>expired</th>\n",
       "      <th>gender</th>\n",
       "      <th>hashcode</th>\n",
       "      <th>member_email</th>\n",
       "      <th>nickname</th>\n",
       "      <th>profileImg</th>\n",
       "      <th>role</th>\n",
       "      <th>sns_type</th>\n",
       "    </tr>\n",
       "  </thead>\n",
       "  <tbody>\n",
       "    <tr>\n",
       "      <th>0</th>\n",
       "      <td>1</td>\n",
       "      <td>None</td>\n",
       "      <td>None</td>\n",
       "      <td>None</td>\n",
       "      <td>None</td>\n",
       "      <td>None</td>\n",
       "      <td>None</td>\n",
       "      <td>None</td>\n",
       "      <td>None</td>\n",
       "      <td>None</td>\n",
       "      <td>None</td>\n",
       "      <td>None</td>\n",
       "    </tr>\n",
       "    <tr>\n",
       "      <th>1</th>\n",
       "      <td>2</td>\n",
       "      <td>None</td>\n",
       "      <td>None</td>\n",
       "      <td>None</td>\n",
       "      <td>None</td>\n",
       "      <td>None</td>\n",
       "      <td>None</td>\n",
       "      <td>None</td>\n",
       "      <td>None</td>\n",
       "      <td>None</td>\n",
       "      <td>None</td>\n",
       "      <td>None</td>\n",
       "    </tr>\n",
       "    <tr>\n",
       "      <th>2</th>\n",
       "      <td>3</td>\n",
       "      <td>None</td>\n",
       "      <td>None</td>\n",
       "      <td>None</td>\n",
       "      <td>None</td>\n",
       "      <td>None</td>\n",
       "      <td>None</td>\n",
       "      <td>None</td>\n",
       "      <td>None</td>\n",
       "      <td>None</td>\n",
       "      <td>None</td>\n",
       "      <td>None</td>\n",
       "    </tr>\n",
       "    <tr>\n",
       "      <th>3</th>\n",
       "      <td>4</td>\n",
       "      <td>None</td>\n",
       "      <td>None</td>\n",
       "      <td>None</td>\n",
       "      <td>None</td>\n",
       "      <td>None</td>\n",
       "      <td>None</td>\n",
       "      <td>None</td>\n",
       "      <td>None</td>\n",
       "      <td>None</td>\n",
       "      <td>None</td>\n",
       "      <td>None</td>\n",
       "    </tr>\n",
       "    <tr>\n",
       "      <th>4</th>\n",
       "      <td>5</td>\n",
       "      <td>None</td>\n",
       "      <td>None</td>\n",
       "      <td>None</td>\n",
       "      <td>None</td>\n",
       "      <td>None</td>\n",
       "      <td>None</td>\n",
       "      <td>None</td>\n",
       "      <td>None</td>\n",
       "      <td>None</td>\n",
       "      <td>None</td>\n",
       "      <td>None</td>\n",
       "    </tr>\n",
       "  </tbody>\n",
       "</table>\n",
       "</div>"
      ],
      "text/plain": [
       "   idx created_date updated_date age_range expired gender hashcode  \\\n",
       "0    1         None         None      None    None   None     None   \n",
       "1    2         None         None      None    None   None     None   \n",
       "2    3         None         None      None    None   None     None   \n",
       "3    4         None         None      None    None   None     None   \n",
       "4    5         None         None      None    None   None     None   \n",
       "\n",
       "  member_email nickname profileImg  role sns_type  \n",
       "0         None     None       None  None     None  \n",
       "1         None     None       None  None     None  \n",
       "2         None     None       None  None     None  \n",
       "3         None     None       None  None     None  \n",
       "4         None     None       None  None     None  "
      ]
     },
     "execution_count": 6,
     "metadata": {},
     "output_type": "execute_result"
    }
   ],
   "source": [
    "user_columns = ['idx', 'created_date', 'updated_date', 'age_range', 'expired', 'gender', 'hashcode', 'member_email', 'nickname', 'profileImg', 'role', 'sns_type']\n",
    "user_df = pd.DataFrame(data=[([idx + 1] + [None for x in range(len(user_columns) - 1)]) for idx in range(1000)], columns=user_columns)\n",
    "print(user_df.dtypes)\n",
    "print(user_df.shape)\n",
    "user_df.head()"
   ]
  },
  {
   "cell_type": "code",
   "execution_count": 7,
   "id": "0fdf7fc3-d319-4d71-90fc-fee7c80766b1",
   "metadata": {
    "tags": []
   },
   "outputs": [],
   "source": [
    "HASH_LENGTH = 5\n",
    "CHARACTERS = \"ABCDEFGHIJKLMNOPQRSTUVWXYZ0123456789\"\n",
    "USED_HASHES = [False] * (len(CHARACTERS) ** HASH_LENGTH)\n",
    "\n",
    "def generate_hash():\n",
    "    global USED_HASHES\n",
    "    while True:\n",
    "        hash_str = ''.join(random.choice(CHARACTERS) for _ in range(HASH_LENGTH))\n",
    "        hash_code = hash(hash_str) % len(USED_HASHES)\n",
    "        if not USED_HASHES[hash_code]:\n",
    "            USED_HASHES[hash_code] = True\n",
    "            return hash_str"
   ]
  },
  {
   "cell_type": "code",
   "execution_count": 8,
   "id": "08cc626c-59f0-48ae-9cba-3be56602ab47",
   "metadata": {
    "tags": []
   },
   "outputs": [
    {
     "data": {
      "text/html": [
       "<div>\n",
       "<style scoped>\n",
       "    .dataframe tbody tr th:only-of-type {\n",
       "        vertical-align: middle;\n",
       "    }\n",
       "\n",
       "    .dataframe tbody tr th {\n",
       "        vertical-align: top;\n",
       "    }\n",
       "\n",
       "    .dataframe thead th {\n",
       "        text-align: right;\n",
       "    }\n",
       "</style>\n",
       "<table border=\"1\" class=\"dataframe\">\n",
       "  <thead>\n",
       "    <tr style=\"text-align: right;\">\n",
       "      <th></th>\n",
       "      <th>idx</th>\n",
       "      <th>created_date</th>\n",
       "      <th>updated_date</th>\n",
       "      <th>age_range</th>\n",
       "      <th>expired</th>\n",
       "      <th>gender</th>\n",
       "      <th>hashcode</th>\n",
       "      <th>member_email</th>\n",
       "      <th>nickname</th>\n",
       "      <th>profileImg</th>\n",
       "      <th>role</th>\n",
       "      <th>sns_type</th>\n",
       "    </tr>\n",
       "  </thead>\n",
       "  <tbody>\n",
       "    <tr>\n",
       "      <th>0</th>\n",
       "      <td>1</td>\n",
       "      <td>2023-03-01 12:00:00.000000</td>\n",
       "      <td>None</td>\n",
       "      <td>None</td>\n",
       "      <td>N</td>\n",
       "      <td>None</td>\n",
       "      <td>None</td>\n",
       "      <td>None</td>\n",
       "      <td>None</td>\n",
       "      <td>http://k.kakaocdn.net/dn/dpk9l1/btqmGhA2lKL/Oz...</td>\n",
       "      <td>ROLE_MEMBER</td>\n",
       "      <td>KAKAO</td>\n",
       "    </tr>\n",
       "    <tr>\n",
       "      <th>1</th>\n",
       "      <td>2</td>\n",
       "      <td>2023-03-01 12:43:12.000000</td>\n",
       "      <td>None</td>\n",
       "      <td>None</td>\n",
       "      <td>N</td>\n",
       "      <td>None</td>\n",
       "      <td>None</td>\n",
       "      <td>None</td>\n",
       "      <td>None</td>\n",
       "      <td>http://k.kakaocdn.net/dn/dpk9l1/btqmGhA2lKL/Oz...</td>\n",
       "      <td>ROLE_MEMBER</td>\n",
       "      <td>KAKAO</td>\n",
       "    </tr>\n",
       "    <tr>\n",
       "      <th>2</th>\n",
       "      <td>3</td>\n",
       "      <td>2023-03-01 13:26:24.000000</td>\n",
       "      <td>None</td>\n",
       "      <td>None</td>\n",
       "      <td>N</td>\n",
       "      <td>None</td>\n",
       "      <td>None</td>\n",
       "      <td>None</td>\n",
       "      <td>None</td>\n",
       "      <td>http://k.kakaocdn.net/dn/dpk9l1/btqmGhA2lKL/Oz...</td>\n",
       "      <td>ROLE_MEMBER</td>\n",
       "      <td>KAKAO</td>\n",
       "    </tr>\n",
       "    <tr>\n",
       "      <th>3</th>\n",
       "      <td>4</td>\n",
       "      <td>2023-03-01 14:09:36.000000</td>\n",
       "      <td>None</td>\n",
       "      <td>None</td>\n",
       "      <td>N</td>\n",
       "      <td>None</td>\n",
       "      <td>None</td>\n",
       "      <td>None</td>\n",
       "      <td>None</td>\n",
       "      <td>http://k.kakaocdn.net/dn/dpk9l1/btqmGhA2lKL/Oz...</td>\n",
       "      <td>ROLE_MEMBER</td>\n",
       "      <td>KAKAO</td>\n",
       "    </tr>\n",
       "    <tr>\n",
       "      <th>4</th>\n",
       "      <td>5</td>\n",
       "      <td>2023-03-01 14:52:48.000000</td>\n",
       "      <td>None</td>\n",
       "      <td>None</td>\n",
       "      <td>N</td>\n",
       "      <td>None</td>\n",
       "      <td>None</td>\n",
       "      <td>None</td>\n",
       "      <td>None</td>\n",
       "      <td>http://k.kakaocdn.net/dn/dpk9l1/btqmGhA2lKL/Oz...</td>\n",
       "      <td>ROLE_MEMBER</td>\n",
       "      <td>KAKAO</td>\n",
       "    </tr>\n",
       "  </tbody>\n",
       "</table>\n",
       "</div>"
      ],
      "text/plain": [
       "   idx                created_date updated_date age_range expired gender  \\\n",
       "0    1  2023-03-01 12:00:00.000000         None      None       N   None   \n",
       "1    2  2023-03-01 12:43:12.000000         None      None       N   None   \n",
       "2    3  2023-03-01 13:26:24.000000         None      None       N   None   \n",
       "3    4  2023-03-01 14:09:36.000000         None      None       N   None   \n",
       "4    5  2023-03-01 14:52:48.000000         None      None       N   None   \n",
       "\n",
       "  hashcode member_email nickname  \\\n",
       "0     None         None     None   \n",
       "1     None         None     None   \n",
       "2     None         None     None   \n",
       "3     None         None     None   \n",
       "4     None         None     None   \n",
       "\n",
       "                                          profileImg         role sns_type  \n",
       "0  http://k.kakaocdn.net/dn/dpk9l1/btqmGhA2lKL/Oz...  ROLE_MEMBER    KAKAO  \n",
       "1  http://k.kakaocdn.net/dn/dpk9l1/btqmGhA2lKL/Oz...  ROLE_MEMBER    KAKAO  \n",
       "2  http://k.kakaocdn.net/dn/dpk9l1/btqmGhA2lKL/Oz...  ROLE_MEMBER    KAKAO  \n",
       "3  http://k.kakaocdn.net/dn/dpk9l1/btqmGhA2lKL/Oz...  ROLE_MEMBER    KAKAO  \n",
       "4  http://k.kakaocdn.net/dn/dpk9l1/btqmGhA2lKL/Oz...  ROLE_MEMBER    KAKAO  "
      ]
     },
     "execution_count": 8,
     "metadata": {},
     "output_type": "execute_result"
    }
   ],
   "source": [
    "# 고정값\n",
    "user_df['created_date'] = [datetime.fromtimestamp(x).strftime(\"%Y-%m-%d %H:%M:%S.%f\") for x in time_range]\n",
    "user_df['expired'] = 'N'\n",
    "user_df['profileImg'] = 'http://k.kakaocdn.net/dn/dpk9l1/btqmGhA2lKL/Oz0wDuJn1YV2DIn92f6DVK/img_640x640.jpg'\n",
    "user_df['role'] = 'ROLE_MEMBER'\n",
    "user_df['sns_type'] = 'KAKAO'\n",
    "user_df.head()"
   ]
  },
  {
   "cell_type": "code",
   "execution_count": 9,
   "id": "2fe991f5-601a-4d21-bf6e-8c4af0cf83e7",
   "metadata": {
    "tags": []
   },
   "outputs": [
    {
     "data": {
      "text/plain": [
       "'LGJQ4'"
      ]
     },
     "execution_count": 9,
     "metadata": {},
     "output_type": "execute_result"
    }
   ],
   "source": [
    "generate_hash()"
   ]
  },
  {
   "cell_type": "code",
   "execution_count": 10,
   "id": "3188a606-bb1e-456d-aebc-81c68d047fb7",
   "metadata": {
    "tags": []
   },
   "outputs": [],
   "source": [
    "mail_provider = ['naver.com', 'gmail.com', 'hanmail.net', 'kakao.com']\n",
    "\n",
    "def random_mail_provider():\n",
    "    return random.choices(mail_provider, weights=[7, 10, 1, 1], k=1)[0]"
   ]
  },
  {
   "cell_type": "code",
   "execution_count": 11,
   "id": "9593b3be-b039-4003-ade1-b46aa1bf2364",
   "metadata": {
    "tags": []
   },
   "outputs": [
    {
     "data": {
      "text/plain": [
       "'kakao.com'"
      ]
     },
     "execution_count": 11,
     "metadata": {},
     "output_type": "execute_result"
    }
   ],
   "source": [
    "random_mail_provider()"
   ]
  },
  {
   "cell_type": "code",
   "execution_count": 12,
   "id": "738b53fb-2e62-4d89-80d2-748212add66a",
   "metadata": {},
   "outputs": [],
   "source": [
    "name_sample = np.array([\n",
    "        [\n",
    "            ['김', '이', '박', '최', '정', '강', '조', '윤', '장', '임', '한', '오', '서', '신', '권', '황', '안', '송', '전', '홍'], \n",
    "            ['Kim', 'Lee', 'Park', 'Choi', 'Jung', 'Kang', 'Cho', 'Yoon', 'Jang', 'Im', 'Han', 'Oh', 'Seo', 'Shin', 'Kwon', 'Hwang', 'Ahn', 'Song', 'Jeon', 'Hong']\n",
    "        ],\n",
    "        [\n",
    "            ['민', '서', '예', '지', '도', '하', '주', '윤', '채', '현', '지', '태', '인', '동', '재', '상', '종', '하', '승', '강'],\n",
    "            ['Min', 'Seo', 'Yi', 'Ji', 'Do', 'Ha', 'Ju', 'Yoon', 'Chae', 'Hyeon', 'Ji', 'Tae', 'In', 'Dong', 'Jae', 'Sang', 'Jong', 'Ha', 'Seung', 'Kang']\n",
    "        ],\n",
    "        [\n",
    "            ['준', '윤', '우', '원', '호', '후', '서', '연', '아', '은', '진', '지', '영', '주', '숙', '온', '환', '상', '현', '찬'],\n",
    "            ['Jun', 'Yun', 'Woo', 'Won', 'Ho', 'Hu', 'Seo', 'Yeon', 'An', 'Eun', 'Jin', 'Ji', 'Young', 'Ju', 'Suk', 'On', 'Hwan', 'Sang', 'Hyeon', 'Chan']\n",
    "        ]\n",
    "    ])\n",
    "\n",
    "def random_name_email_gender_pair():\n",
    "    first = random.choice(list(zip(name_sample[0][0], name_sample[0][1])))\n",
    "    mid = random.choice(list(zip(name_sample[1][0], name_sample[1][1])))\n",
    "    last =  random.choice(list(zip(name_sample[2][0], name_sample[2][1])))\n",
    "    \n",
    "    gender = 'male'\n",
    "    \n",
    "    if last[0] in ['윤', '원', '서', '연', '아', '은', '지', '영', '주', '숙']:\n",
    "        gender = 'female'\n",
    "    \n",
    "    name = first[0]+mid[0]+last[0]\n",
    "    email_id = [first[1]+mid[1]+last[1], mid[1]+last[1], first[1][0]+mid[1][0]+last[1][0]]\n",
    "    email = random.choice(email_id).lower() + str(random.randrange(9999)) + '@' + random_mail_provider()\n",
    "    return [name, email, gender]"
   ]
  },
  {
   "cell_type": "code",
   "execution_count": 13,
   "id": "6b74913a-58bf-4c6f-a642-eaed33ec086b",
   "metadata": {},
   "outputs": [
    {
     "data": {
      "text/plain": [
       "['안승온', 'seungon7083@gmail.com', 'male']"
      ]
     },
     "execution_count": 13,
     "metadata": {},
     "output_type": "execute_result"
    }
   ],
   "source": [
    "random_name_email_gender_pair()"
   ]
  },
  {
   "cell_type": "code",
   "execution_count": 14,
   "id": "9f6b5983-10b0-44b0-8a62-60317defc6ed",
   "metadata": {
    "tags": []
   },
   "outputs": [
    {
     "data": {
      "text/html": [
       "<div>\n",
       "<style scoped>\n",
       "    .dataframe tbody tr th:only-of-type {\n",
       "        vertical-align: middle;\n",
       "    }\n",
       "\n",
       "    .dataframe tbody tr th {\n",
       "        vertical-align: top;\n",
       "    }\n",
       "\n",
       "    .dataframe thead th {\n",
       "        text-align: right;\n",
       "    }\n",
       "</style>\n",
       "<table border=\"1\" class=\"dataframe\">\n",
       "  <thead>\n",
       "    <tr style=\"text-align: right;\">\n",
       "      <th></th>\n",
       "      <th>idx</th>\n",
       "      <th>created_date</th>\n",
       "      <th>updated_date</th>\n",
       "      <th>age_range</th>\n",
       "      <th>expired</th>\n",
       "      <th>gender</th>\n",
       "      <th>hashcode</th>\n",
       "      <th>member_email</th>\n",
       "      <th>nickname</th>\n",
       "      <th>profileImg</th>\n",
       "      <th>role</th>\n",
       "      <th>sns_type</th>\n",
       "    </tr>\n",
       "  </thead>\n",
       "  <tbody>\n",
       "    <tr>\n",
       "      <th>0</th>\n",
       "      <td>1</td>\n",
       "      <td>2023-03-01 12:00:00.000000</td>\n",
       "      <td>None</td>\n",
       "      <td>20~29</td>\n",
       "      <td>N</td>\n",
       "      <td>female</td>\n",
       "      <td>L37JG</td>\n",
       "      <td>syy1723@gmail.com</td>\n",
       "      <td>서윤윤</td>\n",
       "      <td>http://k.kakaocdn.net/dn/dpk9l1/btqmGhA2lKL/Oz...</td>\n",
       "      <td>ROLE_MEMBER</td>\n",
       "      <td>KAKAO</td>\n",
       "    </tr>\n",
       "    <tr>\n",
       "      <th>1</th>\n",
       "      <td>2</td>\n",
       "      <td>2023-03-01 12:43:12.000000</td>\n",
       "      <td>None</td>\n",
       "      <td>50~59</td>\n",
       "      <td>N</td>\n",
       "      <td>male</td>\n",
       "      <td>JEVCW</td>\n",
       "      <td>jjh8652@naver.com</td>\n",
       "      <td>정지환</td>\n",
       "      <td>http://k.kakaocdn.net/dn/dpk9l1/btqmGhA2lKL/Oz...</td>\n",
       "      <td>ROLE_MEMBER</td>\n",
       "      <td>KAKAO</td>\n",
       "    </tr>\n",
       "    <tr>\n",
       "      <th>2</th>\n",
       "      <td>3</td>\n",
       "      <td>2023-03-01 13:26:24.000000</td>\n",
       "      <td>None</td>\n",
       "      <td>30~39</td>\n",
       "      <td>N</td>\n",
       "      <td>female</td>\n",
       "      <td>OAHK4</td>\n",
       "      <td>jongsuk7314@hanmail.net</td>\n",
       "      <td>안종숙</td>\n",
       "      <td>http://k.kakaocdn.net/dn/dpk9l1/btqmGhA2lKL/Oz...</td>\n",
       "      <td>ROLE_MEMBER</td>\n",
       "      <td>KAKAO</td>\n",
       "    </tr>\n",
       "    <tr>\n",
       "      <th>3</th>\n",
       "      <td>4</td>\n",
       "      <td>2023-03-01 14:09:36.000000</td>\n",
       "      <td>None</td>\n",
       "      <td>20~29</td>\n",
       "      <td>N</td>\n",
       "      <td>male</td>\n",
       "      <td>9BXRE</td>\n",
       "      <td>jjw4449@gmail.com</td>\n",
       "      <td>전지우</td>\n",
       "      <td>http://k.kakaocdn.net/dn/dpk9l1/btqmGhA2lKL/Oz...</td>\n",
       "      <td>ROLE_MEMBER</td>\n",
       "      <td>KAKAO</td>\n",
       "    </tr>\n",
       "    <tr>\n",
       "      <th>4</th>\n",
       "      <td>5</td>\n",
       "      <td>2023-03-01 14:52:48.000000</td>\n",
       "      <td>None</td>\n",
       "      <td>20~29</td>\n",
       "      <td>N</td>\n",
       "      <td>male</td>\n",
       "      <td>WDNQG</td>\n",
       "      <td>songdonghu5810@gmail.com</td>\n",
       "      <td>송동후</td>\n",
       "      <td>http://k.kakaocdn.net/dn/dpk9l1/btqmGhA2lKL/Oz...</td>\n",
       "      <td>ROLE_MEMBER</td>\n",
       "      <td>KAKAO</td>\n",
       "    </tr>\n",
       "  </tbody>\n",
       "</table>\n",
       "</div>"
      ],
      "text/plain": [
       "   idx                created_date updated_date age_range expired  gender  \\\n",
       "0    1  2023-03-01 12:00:00.000000         None     20~29       N  female   \n",
       "1    2  2023-03-01 12:43:12.000000         None     50~59       N    male   \n",
       "2    3  2023-03-01 13:26:24.000000         None     30~39       N  female   \n",
       "3    4  2023-03-01 14:09:36.000000         None     20~29       N    male   \n",
       "4    5  2023-03-01 14:52:48.000000         None     20~29       N    male   \n",
       "\n",
       "  hashcode              member_email nickname  \\\n",
       "0    L37JG         syy1723@gmail.com      서윤윤   \n",
       "1    JEVCW         jjh8652@naver.com      정지환   \n",
       "2    OAHK4   jongsuk7314@hanmail.net      안종숙   \n",
       "3    9BXRE         jjw4449@gmail.com      전지우   \n",
       "4    WDNQG  songdonghu5810@gmail.com      송동후   \n",
       "\n",
       "                                          profileImg         role sns_type  \n",
       "0  http://k.kakaocdn.net/dn/dpk9l1/btqmGhA2lKL/Oz...  ROLE_MEMBER    KAKAO  \n",
       "1  http://k.kakaocdn.net/dn/dpk9l1/btqmGhA2lKL/Oz...  ROLE_MEMBER    KAKAO  \n",
       "2  http://k.kakaocdn.net/dn/dpk9l1/btqmGhA2lKL/Oz...  ROLE_MEMBER    KAKAO  \n",
       "3  http://k.kakaocdn.net/dn/dpk9l1/btqmGhA2lKL/Oz...  ROLE_MEMBER    KAKAO  \n",
       "4  http://k.kakaocdn.net/dn/dpk9l1/btqmGhA2lKL/Oz...  ROLE_MEMBER    KAKAO  "
      ]
     },
     "execution_count": 14,
     "metadata": {},
     "output_type": "execute_result"
    }
   ],
   "source": [
    "# 무작위 생성\n",
    "user_df[['nickname', 'member_email', 'gender']] = user_df.apply(lambda x : pd.Series(random_name_email_gender_pair(), index=['nickname', 'member_email', 'gender']), axis=1)\n",
    "user_df['hashcode'] = user_df.apply(lambda x : generate_hash(), axis=1)\n",
    "user_df['age_range'] = user_df.apply(lambda x : random.choices(['20~29', '30~39', '40~49', '50~59'], weights=[20, 12, 7, 2])[0], axis=1)\n",
    "user_df.head()"
   ]
  },
  {
   "cell_type": "code",
   "execution_count": 15,
   "id": "63c94bca-b4ba-4825-adac-e83d68013128",
   "metadata": {},
   "outputs": [
    {
     "data": {
      "text/plain": [
       "20~29    482\n",
       "30~39    301\n",
       "40~49    163\n",
       "50~59     54\n",
       "Name: age_range, dtype: int64"
      ]
     },
     "execution_count": 15,
     "metadata": {},
     "output_type": "execute_result"
    }
   ],
   "source": [
    "user_df['age_range'].value_counts()"
   ]
  },
  {
   "cell_type": "code",
   "execution_count": 16,
   "id": "328d9d48-99f5-4a94-85f9-43c29521aecf",
   "metadata": {},
   "outputs": [
    {
     "data": {
      "text/plain": [
       "male      515\n",
       "female    485\n",
       "Name: gender, dtype: int64"
      ]
     },
     "execution_count": 16,
     "metadata": {},
     "output_type": "execute_result"
    }
   ],
   "source": [
    "user_df['gender'].value_counts()"
   ]
  },
  {
   "cell_type": "code",
   "execution_count": 17,
   "id": "14c7513c-0478-44e6-a6b2-fc24ba813021",
   "metadata": {
    "tags": []
   },
   "outputs": [],
   "source": [
    "# 파일 저장\n",
    "os.makedirs(DIR_SAVE_PATH, exist_ok=True)\n",
    "user_df.to_csv(path.join(DIR_SAVE_PATH, 'sql_member_new.csv'), sep=',', index=False, encoding='cp949')"
   ]
  }
 ],
 "metadata": {
  "kernelspec": {
   "display_name": "Python 3 (ipykernel)",
   "language": "python",
   "name": "python3"
  },
  "language_info": {
   "codemirror_mode": {
    "name": "ipython",
    "version": 3
   },
   "file_extension": ".py",
   "mimetype": "text/x-python",
   "name": "python",
   "nbconvert_exporter": "python",
   "pygments_lexer": "ipython3",
   "version": "3.9.13"
  }
 },
 "nbformat": 4,
 "nbformat_minor": 5
}
