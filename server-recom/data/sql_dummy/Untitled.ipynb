{
 "cells": [
  {
   "cell_type": "code",
   "execution_count": null,
   "id": "d61005d2-245b-4c87-ad9d-a0f4f2ceeeaf",
   "metadata": {},
   "outputs": [],
   "source": [
    "survey_transform = np.array({\n",
    "    # none, 스벅, 투썸, 파스, 이디야, padding\n",
    "    {{6, 6, 6, 6, 6}, {8, 4, 4, 9, 6}, {9, 5, 3, 7, 10}, {7, 10, 8, 6, 7}, {4, 8, 5, 6, 8}, {0, 0, 0, 0, 0}},\n",
    "    # none, 향, 산미, 단맛, 쓴맛, 목넘김\n",
    "    {{6, 6, 6, 6, 6}, {12, 0, 0, 0, 0}, {0, 12, 0, 0, 0}, {0, 0, 12, 0, 0}, {0, 0, 0, 12, 0}, {0, 0, 0, 0, 12}},\n",
    "    # none, 아메리카노, 카페라떼, 바닐라라떼, 티, padding\n",
    "    {{6, 6, 6, 6, 6}, {11, 7, 4, 10, 9}, {7, 3, 7, 4, 11}, {8, 2, 11, 2, 6}, {9, 5, 9, 1, 4}, {0, 0, 0, 0, 0}},\n",
    "    # none, 과일타르트, 초코케이크, 호두파이, padding, padding\n",
    "    {{6, 6, 6, 6, 6}, {11, 9, 8, 2, 4}, {5, 2, 12, 4, 9}, {7, 0, 4, 7, 12}, {0, 0, 0, 0, 0}, {0, 0, 0, 0, 0}},\n",
    "    # none, 사과, 복숭아, 베리, 오렌지, 바나나\n",
    "    {{6, 6, 6, 6, 6}, {6, 6, 7, 2, 3}, {12, 3, 10, 3, 2}, {5, 8, 6, 10, 4}, {8, 12, 4, 6, 5}, {7, 5, 9, 4, 12}},\n",
    "    # none, 우디, 시트러스, 허브, 꽃, 허니\n",
    "    {{6, 6, 6, 6, 6}, {5, 1, 1, 9, 12}, {8, 12, 4, 1, 5}, {10, 4, 4, 12, 5}, {12, 3, 3, 3, 4}, {9, 0, 12, 0, 6}}\n",
    "})\n",
    "survey_transform"
   ]
  }
 ],
 "metadata": {
  "kernelspec": {
   "display_name": "S08P22B305",
   "language": "python",
   "name": "server-recom-dmap1cuv"
  },
  "language_info": {
   "codemirror_mode": {
    "name": "ipython",
    "version": 3
   },
   "file_extension": ".py",
   "mimetype": "text/x-python",
   "name": "python",
   "nbconvert_exporter": "python",
   "pygments_lexer": "ipython3",
   "version": "3.9.10"
  }
 },
 "nbformat": 4,
 "nbformat_minor": 5
}
