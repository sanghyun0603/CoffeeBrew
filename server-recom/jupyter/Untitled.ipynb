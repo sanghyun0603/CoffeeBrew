{
 "cells": [
  {
   "cell_type": "code",
   "execution_count": 2,
   "id": "84434efd-cd60-401a-a636-88dd18777499",
   "metadata": {
    "tags": []
   },
   "outputs": [],
   "source": [
    "import os\n",
    "import os.path as path\n",
    "import gc\n",
    "import re\n",
    "import math\n",
    "import json"
   ]
  },
  {
   "cell_type": "code",
   "execution_count": 3,
   "id": "5b2c6c29-a01e-49e3-8ca6-ce8391c4c8a7",
   "metadata": {
    "tags": []
   },
   "outputs": [],
   "source": [
    "import numpy as np\n",
    "import pandas as pd"
   ]
  },
  {
   "cell_type": "code",
   "execution_count": 5,
   "id": "5dcf1115-d294-460e-9f48-7afecdcab661",
   "metadata": {
    "tags": []
   },
   "outputs": [
    {
     "name": "stdout",
     "output_type": "stream",
     "text": [
      "..\\data\n",
      "..\\data\\output\n"
     ]
    }
   ],
   "source": [
    "# 디렉토리 기본 경로 설정\n",
    "DIR_PATH = path.join('..', 'data')\n",
    "DIR_SAVE_PATH = path.join('..', 'data', 'output')\n",
    "\n",
    "print(DIR_PATH)\n",
    "print(DIR_SAVE_PATH)"
   ]
  },
  {
   "cell_type": "code",
   "execution_count": 4,
   "id": "6e541148-1a14-4e9c-9686-76da38ca13c3",
   "metadata": {
    "tags": []
   },
   "outputs": [
    {
     "name": "stdout",
     "output_type": "stream",
     "text": [
      "(52, 3)\n"
     ]
    },
    {
     "data": {
      "text/html": [
       "<div>\n",
       "<style scoped>\n",
       "    .dataframe tbody tr th:only-of-type {\n",
       "        vertical-align: middle;\n",
       "    }\n",
       "\n",
       "    .dataframe tbody tr th {\n",
       "        vertical-align: top;\n",
       "    }\n",
       "\n",
       "    .dataframe thead th {\n",
       "        text-align: right;\n",
       "    }\n",
       "</style>\n",
       "<table border=\"1\" class=\"dataframe\">\n",
       "  <thead>\n",
       "    <tr style=\"text-align: right;\">\n",
       "      <th></th>\n",
       "      <th>id</th>\n",
       "      <th>title</th>\n",
       "      <th>recommendation</th>\n",
       "    </tr>\n",
       "  </thead>\n",
       "  <tbody>\n",
       "    <tr>\n",
       "      <th>0</th>\n",
       "      <td>1</td>\n",
       "      <td>에티오피아 예가체프 G2</td>\n",
       "      <td>[{'id': 3, 'title': '에티오피아 코케허니 G1'}, {'id': 3...</td>\n",
       "    </tr>\n",
       "    <tr>\n",
       "      <th>1</th>\n",
       "      <td>2</td>\n",
       "      <td>과테말라 안티구아</td>\n",
       "      <td>[{'id': 23, 'title': '베트남 로부스타 G1'}, {'id': 25...</td>\n",
       "    </tr>\n",
       "    <tr>\n",
       "      <th>2</th>\n",
       "      <td>3</td>\n",
       "      <td>에티오피아 코케허니 G1</td>\n",
       "      <td>[{'id': 1, 'title': '에티오피아 예가체프 G2'}, {'id': 1...</td>\n",
       "    </tr>\n",
       "    <tr>\n",
       "      <th>3</th>\n",
       "      <td>4</td>\n",
       "      <td>케냐 AA</td>\n",
       "      <td>[{'id': 7, 'title': '브라질 세하도 파인컵 NY2'}, {'id':...</td>\n",
       "    </tr>\n",
       "    <tr>\n",
       "      <th>4</th>\n",
       "      <td>5</td>\n",
       "      <td>콜롬비아 수프리모</td>\n",
       "      <td>[{'id': 10, 'title': '브라질 옐로우 버번'}, {'id': 9, ...</td>\n",
       "    </tr>\n",
       "  </tbody>\n",
       "</table>\n",
       "</div>"
      ],
      "text/plain": [
       "   id          title                                     recommendation\n",
       "0   1  에티오피아 예가체프 G2  [{'id': 3, 'title': '에티오피아 코케허니 G1'}, {'id': 3...\n",
       "1   2      과테말라 안티구아  [{'id': 23, 'title': '베트남 로부스타 G1'}, {'id': 25...\n",
       "2   3  에티오피아 코케허니 G1  [{'id': 1, 'title': '에티오피아 예가체프 G2'}, {'id': 1...\n",
       "3   4          케냐 AA  [{'id': 7, 'title': '브라질 세하도 파인컵 NY2'}, {'id':...\n",
       "4   5      콜롬비아 수프리모  [{'id': 10, 'title': '브라질 옐로우 버번'}, {'id': 9, ..."
      ]
     },
     "execution_count": 4,
     "metadata": {},
     "output_type": "execute_result"
    }
   ],
   "source": [
    "# bean_raw_data.csv\n",
    "bean_read = pd.read_csv(path.join(DIR_SAVE_PATH, 'bean_cbf_recom.csv'), low_memory=False)\n",
    "\n",
    "print(bean_read.shape)\n",
    "bean_read.head()"
   ]
  },
  {
   "cell_type": "code",
   "execution_count": null,
   "id": "6d4bebe6-7b3b-4cac-9266-ecfb7585d420",
   "metadata": {},
   "outputs": [],
   "source": []
  }
 ],
 "metadata": {
  "kernelspec": {
   "display_name": "Python 3 (ipykernel)",
   "language": "python",
   "name": "python3"
  },
  "language_info": {
   "codemirror_mode": {
    "name": "ipython",
    "version": 3
   },
   "file_extension": ".py",
   "mimetype": "text/x-python",
   "name": "python",
   "nbconvert_exporter": "python",
   "pygments_lexer": "ipython3",
   "version": "3.9.13"
  }
 },
 "nbformat": 4,
 "nbformat_minor": 5
}
