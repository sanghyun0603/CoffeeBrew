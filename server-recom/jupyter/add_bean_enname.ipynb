{
 "cells": [
  {
   "cell_type": "code",
   "execution_count": 1,
   "id": "84434efd-cd60-401a-a636-88dd18777499",
   "metadata": {
    "tags": []
   },
   "outputs": [],
   "source": [
    "import os\n",
    "import os.path as path\n",
    "import gc\n",
    "import re\n",
    "import math\n",
    "import json"
   ]
  },
  {
   "cell_type": "code",
   "execution_count": 32,
   "id": "5b2c6c29-a01e-49e3-8ca6-ce8391c4c8a7",
   "metadata": {
    "tags": []
   },
   "outputs": [],
   "source": [
    "import numpy as np\n",
    "import pandas as pd\n",
    "from datetime import datetime\n",
    "import time"
   ]
  },
  {
   "cell_type": "code",
   "execution_count": 43,
   "id": "5dcf1115-d294-460e-9f48-7afecdcab661",
   "metadata": {
    "tags": []
   },
   "outputs": [
    {
     "name": "stdout",
     "output_type": "stream",
     "text": [
      "..\\data\\sql_dummy\n",
      "..\\data\\output\n"
     ]
    }
   ],
   "source": [
    "# 디렉토리 기본 경로 설정\n",
    "DIR_PATH = path.join('..', 'data', 'sql_dummy')\n",
    "DIR_SAVE_PATH = path.join('..', 'data', 'output')\n",
    "\n",
    "print(DIR_PATH)\n",
    "print(DIR_SAVE_PATH)"
   ]
  },
  {
   "cell_type": "code",
   "execution_count": 49,
   "id": "6e541148-1a14-4e9c-9686-76da38ca13c3",
   "metadata": {
    "tags": []
   },
   "outputs": [
    {
     "name": "stdout",
     "output_type": "stream",
     "text": [
      "(47, 8)\n"
     ]
    },
    {
     "data": {
      "text/html": [
       "<div>\n",
       "<style scoped>\n",
       "    .dataframe tbody tr th:only-of-type {\n",
       "        vertical-align: middle;\n",
       "    }\n",
       "\n",
       "    .dataframe tbody tr th {\n",
       "        vertical-align: top;\n",
       "    }\n",
       "\n",
       "    .dataframe thead th {\n",
       "        text-align: right;\n",
       "    }\n",
       "</style>\n",
       "<table border=\"1\" class=\"dataframe\">\n",
       "  <thead>\n",
       "    <tr style=\"text-align: right;\">\n",
       "      <th></th>\n",
       "      <th>idx</th>\n",
       "      <th>created_date</th>\n",
       "      <th>updated_date</th>\n",
       "      <th>name_ko</th>\n",
       "      <th>name_en</th>\n",
       "      <th>summary</th>\n",
       "      <th>thumbnail</th>\n",
       "      <th>user_grade</th>\n",
       "    </tr>\n",
       "  </thead>\n",
       "  <tbody>\n",
       "    <tr>\n",
       "      <th>0</th>\n",
       "      <td>1</td>\n",
       "      <td>2023-03-01 12:00:00.000000</td>\n",
       "      <td>NaN</td>\n",
       "      <td>에티오피아 예가체프 G2 워시드 (중배전)</td>\n",
       "      <td>Ethiopia Yega Chef G2</td>\n",
       "      <td>아이템 요약 영역 입니다!!!</td>\n",
       "      <td>default_bean.png</td>\n",
       "      <td>0</td>\n",
       "    </tr>\n",
       "    <tr>\n",
       "      <th>1</th>\n",
       "      <td>2</td>\n",
       "      <td>2023-03-01 12:43:12.000000</td>\n",
       "      <td>NaN</td>\n",
       "      <td>과테말라 안티구아 SHB 워시드 (강배전)</td>\n",
       "      <td>Guatemala Antigua SHB</td>\n",
       "      <td>아이템 요약 영역 입니다!!!</td>\n",
       "      <td>default_bean.png</td>\n",
       "      <td>0</td>\n",
       "    </tr>\n",
       "    <tr>\n",
       "      <th>2</th>\n",
       "      <td>3</td>\n",
       "      <td>2023-03-01 13:26:24.000000</td>\n",
       "      <td>NaN</td>\n",
       "      <td>에티오피아 코케 G1 펄프드내추럴 (중배전)</td>\n",
       "      <td>Ethiopia Koke G1</td>\n",
       "      <td>아이템 요약 영역 입니다!!!</td>\n",
       "      <td>default_bean.png</td>\n",
       "      <td>0</td>\n",
       "    </tr>\n",
       "    <tr>\n",
       "      <th>3</th>\n",
       "      <td>4</td>\n",
       "      <td>2023-03-01 14:09:36.000000</td>\n",
       "      <td>NaN</td>\n",
       "      <td>케냐 키암부 AA 워시드 (중배전)</td>\n",
       "      <td>Kenya Kyambu AA</td>\n",
       "      <td>아이템 요약 영역 입니다!!!</td>\n",
       "      <td>default_bean.png</td>\n",
       "      <td>0</td>\n",
       "    </tr>\n",
       "    <tr>\n",
       "      <th>4</th>\n",
       "      <td>5</td>\n",
       "      <td>2023-03-01 14:52:48.000000</td>\n",
       "      <td>NaN</td>\n",
       "      <td>콜롬비아 콜롬비아 SUPREMO 워시드 (중배전)</td>\n",
       "      <td>Colombia Colombian SUPREMO</td>\n",
       "      <td>아이템 요약 영역 입니다!!!</td>\n",
       "      <td>default_bean.png</td>\n",
       "      <td>0</td>\n",
       "    </tr>\n",
       "  </tbody>\n",
       "</table>\n",
       "</div>"
      ],
      "text/plain": [
       "   idx                created_date  updated_date                      name_ko  \\\n",
       "0    1  2023-03-01 12:00:00.000000           NaN      에티오피아 예가체프 G2 워시드 (중배전)   \n",
       "1    2  2023-03-01 12:43:12.000000           NaN      과테말라 안티구아 SHB 워시드 (강배전)   \n",
       "2    3  2023-03-01 13:26:24.000000           NaN     에티오피아 코케 G1 펄프드내추럴 (중배전)   \n",
       "3    4  2023-03-01 14:09:36.000000           NaN          케냐 키암부 AA 워시드 (중배전)   \n",
       "4    5  2023-03-01 14:52:48.000000           NaN  콜롬비아 콜롬비아 SUPREMO 워시드 (중배전)   \n",
       "\n",
       "                      name_en           summary         thumbnail  user_grade  \n",
       "0       Ethiopia Yega Chef G2  아이템 요약 영역 입니다!!!  default_bean.png           0  \n",
       "1       Guatemala Antigua SHB  아이템 요약 영역 입니다!!!  default_bean.png           0  \n",
       "2            Ethiopia Koke G1  아이템 요약 영역 입니다!!!  default_bean.png           0  \n",
       "3             Kenya Kyambu AA  아이템 요약 영역 입니다!!!  default_bean.png           0  \n",
       "4  Colombia Colombian SUPREMO  아이템 요약 영역 입니다!!!  default_bean.png           0  "
      ]
     },
     "execution_count": 49,
     "metadata": {},
     "output_type": "execute_result"
    }
   ],
   "source": [
    "# bean_raw_data.csv\n",
    "bean_read = pd.read_csv(path.join(DIR_PATH, 'sql_bean_v2.csv'), low_memory=False)\n",
    "\n",
    "print(bean_read.shape)\n",
    "bean_read.head()"
   ]
  },
  {
   "cell_type": "code",
   "execution_count": 50,
   "id": "4251a161-c48e-4c1c-97a5-c5e9473d6e70",
   "metadata": {
    "tags": []
   },
   "outputs": [
    {
     "name": "stdout",
     "output_type": "stream",
     "text": [
      "1677639600 1680231600 2592\n"
     ]
    }
   ],
   "source": [
    "start = int(time.mktime(datetime(2023,3,1,12).timetuple()))\n",
    "end = int(time.mktime(datetime(2023,3,31,12).timetuple()))\n",
    "step = (end - start) // 1000\n",
    "print(start, end, step)\n",
    "time_range = range(start, end, step)\n",
    "num_rows = len(bean_read.index)\n",
    "time_range = time_range[:num_rows]"
   ]
  },
  {
   "cell_type": "code",
   "execution_count": 51,
   "id": "6d4bebe6-7b3b-4cac-9266-ecfb7585d420",
   "metadata": {
    "tags": []
   },
   "outputs": [
    {
     "data": {
      "text/html": [
       "<div>\n",
       "<style scoped>\n",
       "    .dataframe tbody tr th:only-of-type {\n",
       "        vertical-align: middle;\n",
       "    }\n",
       "\n",
       "    .dataframe tbody tr th {\n",
       "        vertical-align: top;\n",
       "    }\n",
       "\n",
       "    .dataframe thead th {\n",
       "        text-align: right;\n",
       "    }\n",
       "</style>\n",
       "<table border=\"1\" class=\"dataframe\">\n",
       "  <thead>\n",
       "    <tr style=\"text-align: right;\">\n",
       "      <th></th>\n",
       "      <th>idx</th>\n",
       "      <th>created_date</th>\n",
       "      <th>updated_date</th>\n",
       "      <th>name_ko</th>\n",
       "      <th>name_en</th>\n",
       "      <th>summary</th>\n",
       "      <th>thumbnail</th>\n",
       "      <th>user_grade</th>\n",
       "    </tr>\n",
       "  </thead>\n",
       "  <tbody>\n",
       "    <tr>\n",
       "      <th>0</th>\n",
       "      <td>1</td>\n",
       "      <td>2023-03-01 12:00:00.000000</td>\n",
       "      <td>NaN</td>\n",
       "      <td>에티오피아 예가체프 G2 워시드 (중배전)</td>\n",
       "      <td>Ethiopia Yega Chef G2</td>\n",
       "      <td>아이템 요약 영역 입니다!!!</td>\n",
       "      <td>default_bean.png</td>\n",
       "      <td>0</td>\n",
       "    </tr>\n",
       "    <tr>\n",
       "      <th>1</th>\n",
       "      <td>2</td>\n",
       "      <td>2023-03-01 12:43:12.000000</td>\n",
       "      <td>NaN</td>\n",
       "      <td>과테말라 안티구아 SHB 워시드 (강배전)</td>\n",
       "      <td>Guatemala Antigua SHB</td>\n",
       "      <td>아이템 요약 영역 입니다!!!</td>\n",
       "      <td>default_bean.png</td>\n",
       "      <td>0</td>\n",
       "    </tr>\n",
       "    <tr>\n",
       "      <th>2</th>\n",
       "      <td>3</td>\n",
       "      <td>2023-03-01 13:26:24.000000</td>\n",
       "      <td>NaN</td>\n",
       "      <td>에티오피아 코케 G1 펄프드내추럴 (중배전)</td>\n",
       "      <td>Ethiopia Koke G1</td>\n",
       "      <td>아이템 요약 영역 입니다!!!</td>\n",
       "      <td>default_bean.png</td>\n",
       "      <td>0</td>\n",
       "    </tr>\n",
       "    <tr>\n",
       "      <th>3</th>\n",
       "      <td>4</td>\n",
       "      <td>2023-03-01 14:09:36.000000</td>\n",
       "      <td>NaN</td>\n",
       "      <td>케냐 키암부 AA 워시드 (중배전)</td>\n",
       "      <td>Kenya Kyambu AA</td>\n",
       "      <td>아이템 요약 영역 입니다!!!</td>\n",
       "      <td>default_bean.png</td>\n",
       "      <td>0</td>\n",
       "    </tr>\n",
       "    <tr>\n",
       "      <th>4</th>\n",
       "      <td>5</td>\n",
       "      <td>2023-03-01 14:52:48.000000</td>\n",
       "      <td>NaN</td>\n",
       "      <td>콜롬비아 콜롬비아 SUPREMO 워시드 (중배전)</td>\n",
       "      <td>Colombia Colombian SUPREMO</td>\n",
       "      <td>아이템 요약 영역 입니다!!!</td>\n",
       "      <td>default_bean.png</td>\n",
       "      <td>0</td>\n",
       "    </tr>\n",
       "  </tbody>\n",
       "</table>\n",
       "</div>"
      ],
      "text/plain": [
       "   idx                created_date  updated_date                      name_ko  \\\n",
       "0    1  2023-03-01 12:00:00.000000           NaN      에티오피아 예가체프 G2 워시드 (중배전)   \n",
       "1    2  2023-03-01 12:43:12.000000           NaN      과테말라 안티구아 SHB 워시드 (강배전)   \n",
       "2    3  2023-03-01 13:26:24.000000           NaN     에티오피아 코케 G1 펄프드내추럴 (중배전)   \n",
       "3    4  2023-03-01 14:09:36.000000           NaN          케냐 키암부 AA 워시드 (중배전)   \n",
       "4    5  2023-03-01 14:52:48.000000           NaN  콜롬비아 콜롬비아 SUPREMO 워시드 (중배전)   \n",
       "\n",
       "                      name_en           summary         thumbnail  user_grade  \n",
       "0       Ethiopia Yega Chef G2  아이템 요약 영역 입니다!!!  default_bean.png           0  \n",
       "1       Guatemala Antigua SHB  아이템 요약 영역 입니다!!!  default_bean.png           0  \n",
       "2            Ethiopia Koke G1  아이템 요약 영역 입니다!!!  default_bean.png           0  \n",
       "3             Kenya Kyambu AA  아이템 요약 영역 입니다!!!  default_bean.png           0  \n",
       "4  Colombia Colombian SUPREMO  아이템 요약 영역 입니다!!!  default_bean.png           0  "
      ]
     },
     "execution_count": 51,
     "metadata": {},
     "output_type": "execute_result"
    }
   ],
   "source": [
    "bean_read['name_en'] = bean_read['name_en'].str.replace(r\"\\(.*\\)\", \"\" ,regex=True).str.strip()\n",
    "bean_read.head()"
   ]
  },
  {
   "cell_type": "code",
   "execution_count": 52,
   "id": "9514e38c-d32d-445b-8645-e05149ab03a9",
   "metadata": {
    "tags": []
   },
   "outputs": [
    {
     "data": {
      "text/html": [
       "<div>\n",
       "<style scoped>\n",
       "    .dataframe tbody tr th:only-of-type {\n",
       "        vertical-align: middle;\n",
       "    }\n",
       "\n",
       "    .dataframe tbody tr th {\n",
       "        vertical-align: top;\n",
       "    }\n",
       "\n",
       "    .dataframe thead th {\n",
       "        text-align: right;\n",
       "    }\n",
       "</style>\n",
       "<table border=\"1\" class=\"dataframe\">\n",
       "  <thead>\n",
       "    <tr style=\"text-align: right;\">\n",
       "      <th></th>\n",
       "      <th>idx</th>\n",
       "      <th>created_date</th>\n",
       "      <th>updated_date</th>\n",
       "      <th>name_ko</th>\n",
       "      <th>name_en</th>\n",
       "      <th>summary</th>\n",
       "      <th>thumbnail</th>\n",
       "      <th>user_grade</th>\n",
       "    </tr>\n",
       "  </thead>\n",
       "  <tbody>\n",
       "    <tr>\n",
       "      <th>0</th>\n",
       "      <td>1</td>\n",
       "      <td>2023-03-01 12:00:00.000000</td>\n",
       "      <td>NaN</td>\n",
       "      <td>에티오피아 예가체프 G2 워시드 (중배전)</td>\n",
       "      <td>Ethiopia Yega Chef G2</td>\n",
       "      <td>아이템 요약 영역 입니다!!!</td>\n",
       "      <td>default_bean.png</td>\n",
       "      <td>0</td>\n",
       "    </tr>\n",
       "    <tr>\n",
       "      <th>1</th>\n",
       "      <td>2</td>\n",
       "      <td>2023-03-01 12:43:12.000000</td>\n",
       "      <td>NaN</td>\n",
       "      <td>과테말라 안티구아 SHB 워시드 (강배전)</td>\n",
       "      <td>Guatemala Antigua SHB</td>\n",
       "      <td>아이템 요약 영역 입니다!!!</td>\n",
       "      <td>default_bean.png</td>\n",
       "      <td>0</td>\n",
       "    </tr>\n",
       "    <tr>\n",
       "      <th>2</th>\n",
       "      <td>3</td>\n",
       "      <td>2023-03-01 13:26:24.000000</td>\n",
       "      <td>NaN</td>\n",
       "      <td>에티오피아 코케 G1 펄프드내추럴 (중배전)</td>\n",
       "      <td>Ethiopia Koke G1</td>\n",
       "      <td>아이템 요약 영역 입니다!!!</td>\n",
       "      <td>default_bean.png</td>\n",
       "      <td>0</td>\n",
       "    </tr>\n",
       "    <tr>\n",
       "      <th>3</th>\n",
       "      <td>4</td>\n",
       "      <td>2023-03-01 14:09:36.000000</td>\n",
       "      <td>NaN</td>\n",
       "      <td>케냐 키암부 AA 워시드 (중배전)</td>\n",
       "      <td>Kenya Kyambu AA</td>\n",
       "      <td>아이템 요약 영역 입니다!!!</td>\n",
       "      <td>default_bean.png</td>\n",
       "      <td>0</td>\n",
       "    </tr>\n",
       "    <tr>\n",
       "      <th>4</th>\n",
       "      <td>5</td>\n",
       "      <td>2023-03-01 14:52:48.000000</td>\n",
       "      <td>NaN</td>\n",
       "      <td>콜롬비아 콜롬비아 SUPREMO 워시드 (중배전)</td>\n",
       "      <td>Colombia Colombian SUPREMO</td>\n",
       "      <td>아이템 요약 영역 입니다!!!</td>\n",
       "      <td>default_bean.png</td>\n",
       "      <td>0</td>\n",
       "    </tr>\n",
       "  </tbody>\n",
       "</table>\n",
       "</div>"
      ],
      "text/plain": [
       "   idx                created_date  updated_date                      name_ko  \\\n",
       "0    1  2023-03-01 12:00:00.000000           NaN      에티오피아 예가체프 G2 워시드 (중배전)   \n",
       "1    2  2023-03-01 12:43:12.000000           NaN      과테말라 안티구아 SHB 워시드 (강배전)   \n",
       "2    3  2023-03-01 13:26:24.000000           NaN     에티오피아 코케 G1 펄프드내추럴 (중배전)   \n",
       "3    4  2023-03-01 14:09:36.000000           NaN          케냐 키암부 AA 워시드 (중배전)   \n",
       "4    5  2023-03-01 14:52:48.000000           NaN  콜롬비아 콜롬비아 SUPREMO 워시드 (중배전)   \n",
       "\n",
       "                      name_en           summary         thumbnail  user_grade  \n",
       "0       Ethiopia Yega Chef G2  아이템 요약 영역 입니다!!!  default_bean.png           0  \n",
       "1       Guatemala Antigua SHB  아이템 요약 영역 입니다!!!  default_bean.png           0  \n",
       "2            Ethiopia Koke G1  아이템 요약 영역 입니다!!!  default_bean.png           0  \n",
       "3             Kenya Kyambu AA  아이템 요약 영역 입니다!!!  default_bean.png           0  \n",
       "4  Colombia Colombian SUPREMO  아이템 요약 영역 입니다!!!  default_bean.png           0  "
      ]
     },
     "execution_count": 52,
     "metadata": {},
     "output_type": "execute_result"
    }
   ],
   "source": [
    "bean_read['name_en'] = bean_read['name_en'].str.replace('Washed', '').str.strip()\n",
    "bean_read['name_en'] = bean_read['name_en'].str.replace('Natural', '').str.strip()\n",
    "bean_read['name_en'] = bean_read['name_en'].str.replace('Dicover Inn', 'Decaffeinated').str.strip()\n",
    "bean_read['name_en'] = bean_read['name_en'].str.replace('DiCapayin', 'Decaffeinated').str.strip()\n",
    "bean_read['name_en'] = bean_read['name_en'].str.replace('Divafé', 'Decaffeinated').str.strip()\n",
    "bean_read['name_en'] = bean_read['name_en'].str.replace('Decaffeinated', 'Decaf').str.strip()\n",
    "bean_read['created_date'] = [datetime.fromtimestamp(x).strftime(\"%Y-%m-%d %H:%M:%S.%f\") for x in time_range]\n",
    "bean_read.head()"
   ]
  },
  {
   "cell_type": "code",
   "execution_count": 48,
   "id": "51f33a67-771d-44f0-82be-6c01edfeb23a",
   "metadata": {
    "tags": []
   },
   "outputs": [],
   "source": [
    "bean_read.to_csv(path.join(DIR_PATH, 'sql_bean_v2.csv'), sep=',', index=False)"
   ]
  },
  {
   "cell_type": "code",
   "execution_count": null,
   "id": "5b4f674b-b44f-4254-9c8c-07a5b2e58853",
   "metadata": {},
   "outputs": [],
   "source": []
  }
 ],
 "metadata": {
  "kernelspec": {
   "display_name": "Python 3 (ipykernel)",
   "language": "python",
   "name": "python3"
  },
  "language_info": {
   "codemirror_mode": {
    "name": "ipython",
    "version": 3
   },
   "file_extension": ".py",
   "mimetype": "text/x-python",
   "name": "python",
   "nbconvert_exporter": "python",
   "pygments_lexer": "ipython3",
   "version": "3.9.13"
  }
 },
 "nbformat": 4,
 "nbformat_minor": 5
}
