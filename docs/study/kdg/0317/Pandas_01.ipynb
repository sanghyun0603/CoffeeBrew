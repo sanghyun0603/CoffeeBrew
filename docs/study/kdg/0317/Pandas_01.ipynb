{
 "cells": [
  {
   "cell_type": "markdown",
   "id": "c059062d-51a0-4b4f-bd5c-c89c172937a3",
   "metadata": {
    "tags": []
   },
   "source": [
    "# Pandas 학습\n",
    "\n",
    "## Pandas란?\n",
    "\n",
    "pandas는 데이터 조작 및 분석을 위한 파이썬 프로그래밍 언어 용으로 작성된 소프트웨어 라이브러리\n",
    "\n",
    "숫자 테이블과 시계열을 조작하기 위한 데이터 구조와 연산을 제공\n",
    "\n",
    "## Pandas 라이브러리의 기능\n",
    "\n",
    "- 통합 인덱싱으로 데이터 조작을 위한 Data Frame 개체\n",
    "- 메모리 내 데이터 구조 와 다른 파일 형식 간에 데이터를 읽고 쓰는 도구\n",
    "- 데이터 정렬 및 누락된 데이터의 통합 처리\n",
    "- 데이터 세트의 재구성 및 피벗\n",
    "- 레이블 기반 슬라이싱, 멋진 인덱싱 및 대규모 데이터 세트의 하위 집합\n",
    "- 데이터 구조 열 삽입 및 삭제\n",
    "- 데이터 세트에 대한 분할-적용-결합 작업을 허용하는 엔진별로 그룹화\n",
    "- 데이터 세트 병합 및 결합\n",
    "- 저차원 데이터 구조에서 고차원 데이터로 작업하기 위한 계층적 축 인덱싱\n",
    "- 시계열 기능: 날짜 범위 생성  및 빈도 변환, 이동 창 통계, 이동 창 선형 회귀, 날짜 이동 및 지연\n",
    "- 데이터 필터링을 제공\n"
   ]
  },
  {
   "cell_type": "markdown",
   "id": "ec626c14-d264-4dc7-8e36-a481cc9b32aa",
   "metadata": {},
   "source": [
    "## Pandas 기초 사용법 학습하기 01\n",
    "\n",
    "### Pandas 라이브러리 Import\n",
    "\n",
    "Pandas의 Import는 pd라는 명칭으로 하는것이 관례"
   ]
  },
  {
   "cell_type": "code",
   "execution_count": 1,
   "id": "d83579a4-010b-44cf-96e3-9f1531f1f3fe",
   "metadata": {
    "tags": []
   },
   "outputs": [],
   "source": [
    "import pandas as pd"
   ]
  },
  {
   "cell_type": "markdown",
   "id": "7dfa2299-24ab-4b30-8468-a58df8fd094d",
   "metadata": {},
   "source": [
    "## Pandas의 데이터 구조\n",
    "\n",
    "Pandas에서 사용하는 기본적인 데이터 구조는 다음과 같음\n",
    "\n",
    "- 시리즈(Series)\n",
    "- 데이터프레임(DataFrame)\n",
    "- 패널(Panel)"
   ]
  },
  {
   "cell_type": "markdown",
   "id": "72a6d1e1-d659-4dec-b4cd-2799e45ce666",
   "metadata": {},
   "source": [
    "### 1) 시리즈(Series)\n",
    "\n",
    "시리즈 클래스는 1차원 배열의 값(value)에 대응되는 인덱스(index)를 부여할 수 있는 구조를 가짐"
   ]
  },
  {
   "cell_type": "code",
   "execution_count": 2,
   "id": "a222e320-4723-442c-b26f-eb9d909aebc3",
   "metadata": {
    "tags": []
   },
   "outputs": [
    {
     "name": "stdout",
     "output_type": "stream",
     "text": [
      "시리즈 출력 :\n",
      "----------------\n",
      "피자    17000\n",
      "치킨    18000\n",
      "콜라     1000\n",
      "맥주     5000\n",
      "dtype: int64\n"
     ]
    }
   ],
   "source": [
    "sr = pd.Series([17000, 18000, 1000, 5000],\n",
    "               index=[\"피자\", \"치킨\", \"콜라\", \"맥주\"])\n",
    "print('시리즈 출력 :')\n",
    "print('-'*16)\n",
    "print(sr)"
   ]
  },
  {
   "cell_type": "markdown",
   "id": "15cb2d24-15bd-4388-9d5a-660f4206a74b",
   "metadata": {},
   "source": [
    "값(values)과 인덱스(index)를 각각 출력할 수 있음"
   ]
  },
  {
   "cell_type": "code",
   "execution_count": 3,
   "id": "4330274f-1049-4a4a-a7ca-3771f13d1bda",
   "metadata": {
    "tags": []
   },
   "outputs": [
    {
     "name": "stdout",
     "output_type": "stream",
     "text": [
      "시리즈의 값 : [17000 18000  1000  5000]\n",
      "시리즈의 인덱스 : Index(['피자', '치킨', '콜라', '맥주'], dtype='object')\n"
     ]
    }
   ],
   "source": [
    "print('시리즈의 값 : {}'.format(sr.values))\n",
    "print('시리즈의 인덱스 : {}'.format(sr.index))"
   ]
  },
  {
   "cell_type": "markdown",
   "id": "165ea59b-7d54-4bbd-9338-0020c7afb3db",
   "metadata": {},
   "source": [
    "### 2) 데이터프레임(DataFrame)\n",
    "\n",
    "데이터프레임은 2차원 리스트를 매개변수로 전달\n",
    "\n",
    "2차원으로 구성되어 있으므로 행방향 인덱스(index)와 열방향 인덱스(column)을 사용"
   ]
  },
  {
   "cell_type": "code",
   "execution_count": 4,
   "id": "c1a098dc-f2f3-4ecf-9e97-4696fc285417",
   "metadata": {
    "tags": []
   },
   "outputs": [
    {
     "name": "stdout",
     "output_type": "stream",
     "text": [
      "데이터프레임 출력 :\n",
      "----------------\n",
      "       A  B  C\n",
      "one    1  2  3\n",
      "two    4  5  6\n",
      "three  7  8  9\n"
     ]
    }
   ],
   "source": [
    "values = [[1, 2, 3], [4, 5, 6], [7, 8, 9]]\n",
    "index = ['one', 'two', 'three']\n",
    "columns = ['A', 'B', 'C']\n",
    "\n",
    "df = pd.DataFrame(values, index=index, columns=columns)\n",
    "\n",
    "print('데이터프레임 출력 :')\n",
    "print('-'*16)\n",
    "print(df)"
   ]
  },
  {
   "cell_type": "markdown",
   "id": "ecc82a89-1c37-4dde-8f0b-33f504b95d31",
   "metadata": {
    "tags": []
   },
   "source": [
    "값(values)과 행 인덱스(index), 열 인덱스(column)를 각각 출력할 수 있음"
   ]
  },
  {
   "cell_type": "code",
   "execution_count": 10,
   "id": "aa180c94-0544-4ec9-8041-97ca79dc7653",
   "metadata": {
    "tags": []
   },
   "outputs": [
    {
     "name": "stdout",
     "output_type": "stream",
     "text": [
      "데이터프레임의 값 : \n",
      "[[1 2 3]\n",
      " [4 5 6]\n",
      " [7 8 9]]\n",
      "데이터프레임의 행 인덱스 : Index(['one', 'two', 'three'], dtype='object')\n",
      "데이터프레임의 열 인덱스 : Index(['A', 'B', 'C'], dtype='object')\n"
     ]
    }
   ],
   "source": [
    "print('데이터프레임의 값 : \\n{}'.format(df.values))\n",
    "print('데이터프레임의 행 인덱스 : {}'.format(df.index))\n",
    "print('데이터프레임의 열 인덱스 : {}'.format(df.columns))"
   ]
  },
  {
   "cell_type": "markdown",
   "id": "26c968ed-2eb5-4473-b816-4d5b9d7aacf4",
   "metadata": {},
   "source": [
    "### 3) 데이터프레임의 생성\n",
    "\n",
    "데이터프레임은 리스트(List), 시리즈(Series), 딕셔너리(dict), Numpy의 ndarrays, 또 다른 데이터프레임으로부터 생성할 수 있다.\n",
    "\n",
    "- 리스트로 생성하는 방법"
   ]
  },
  {
   "cell_type": "code",
   "execution_count": 11,
   "id": "73b92027-7099-400d-b4f0-9929b2bb7105",
   "metadata": {
    "tags": []
   },
   "outputs": [
    {
     "name": "stdout",
     "output_type": "stream",
     "text": [
      "      0         1      2\n",
      "0  1000     Steve  90.72\n",
      "1  1001     James  78.09\n",
      "2  1002    Doyeon  98.43\n",
      "3  1003      Jane  64.19\n",
      "4  1004  Pilwoong  81.30\n",
      "5  1005      Tony  99.14\n"
     ]
    }
   ],
   "source": [
    "# 리스트로 생성하기\n",
    "data = [\n",
    "    ['1000', 'Steve', 90.72], \n",
    "    ['1001', 'James', 78.09], \n",
    "    ['1002', 'Doyeon', 98.43], \n",
    "    ['1003', 'Jane', 64.19], \n",
    "    ['1004', 'Pilwoong', 81.30],\n",
    "    ['1005', 'Tony', 99.14],\n",
    "]\n",
    "\n",
    "df = pd.DataFrame(data)\n",
    "print(df)"
   ]
  },
  {
   "cell_type": "markdown",
   "id": "4fb850e3-b668-4e4c-b4ef-81f50a65ead5",
   "metadata": {},
   "source": [
    "미리 생성된 데이터프레임에 열(columns)을 지정해줄 수 있다."
   ]
  },
  {
   "cell_type": "code",
   "execution_count": 12,
   "id": "a30deea2-671c-47e0-a4e9-1468755e1c9d",
   "metadata": {
    "tags": []
   },
   "outputs": [
    {
     "name": "stdout",
     "output_type": "stream",
     "text": [
      "     학번        이름     점수\n",
      "0  1000     Steve  90.72\n",
      "1  1001     James  78.09\n",
      "2  1002    Doyeon  98.43\n",
      "3  1003      Jane  64.19\n",
      "4  1004  Pilwoong  81.30\n",
      "5  1005      Tony  99.14\n"
     ]
    }
   ],
   "source": [
    "df = pd.DataFrame(data, columns=['학번', '이름', '점수'])\n",
    "print(df)"
   ]
  },
  {
   "cell_type": "markdown",
   "id": "9ff13027-3392-465c-bc10-6f76b7e487e2",
   "metadata": {},
   "source": [
    "- 딕셔너리로 생성하는 방법\n",
    "  - 딕셔너리로 생성 할때는 key 값을 미리 가지고 있으므로 별도의 열(columns)을 생성하지 않아도 된다."
   ]
  },
  {
   "cell_type": "code",
   "execution_count": 13,
   "id": "45b8a95d-e791-4f5f-8f85-987de6ff5dde",
   "metadata": {
    "tags": []
   },
   "outputs": [
    {
     "name": "stdout",
     "output_type": "stream",
     "text": [
      "     학번        이름     점수\n",
      "0  1000     Steve  90.72\n",
      "1  1001     James  78.09\n",
      "2  1002    Doyeon  98.43\n",
      "3  1003      Jane  64.19\n",
      "4  1004  Pilwoong  81.30\n",
      "5  1005      Tony  99.14\n"
     ]
    }
   ],
   "source": [
    "# 딕셔너리로 생성하기\n",
    "data = {\n",
    "    '학번' : ['1000', '1001', '1002', '1003', '1004', '1005'],\n",
    "    '이름' : [ 'Steve', 'James', 'Doyeon', 'Jane', 'Pilwoong', 'Tony'],\n",
    "    '점수': [90.72, 78.09, 98.43, 64.19, 81.30, 99.14]\n",
    "    }\n",
    "\n",
    "df = pd.DataFrame(data)\n",
    "print(df)"
   ]
  },
  {
   "cell_type": "markdown",
   "id": "50027b41-d17a-4cbe-a5ca-944977dfe7c7",
   "metadata": {},
   "source": [
    "### 4) 데이터프레임 조회하기\n",
    "데이터프레임에서 원하는 구간만 확인하기 위한 명령어\n",
    "\n",
    "- df.head(n) - 앞 부분을 n개만 보기\n",
    "- df.tail(n) - 뒷 부분을 n개만 보기\n",
    "- df['열이름'] - 해당되는 열을 확인"
   ]
  },
  {
   "cell_type": "code",
   "execution_count": 14,
   "id": "6d53ac61-59c7-4484-a4cf-001718d30a33",
   "metadata": {
    "tags": []
   },
   "outputs": [
    {
     "name": "stdout",
     "output_type": "stream",
     "text": [
      "     학번      이름     점수\n",
      "0  1000   Steve  90.72\n",
      "1  1001   James  78.09\n",
      "2  1002  Doyeon  98.43\n",
      "3  1003    Jane  64.19\n",
      "     학번        이름     점수\n",
      "2  1002    Doyeon  98.43\n",
      "3  1003      Jane  64.19\n",
      "4  1004  Pilwoong  81.30\n",
      "5  1005      Tony  99.14\n",
      "0    1000\n",
      "1    1001\n",
      "2    1002\n",
      "3    1003\n",
      "4    1004\n",
      "5    1005\n",
      "Name: 학번, dtype: object\n"
     ]
    }
   ],
   "source": [
    "# 앞 부분을 4개만 보기\n",
    "print(df.head(4))\n",
    "\n",
    "# 뒷 부분을 4개만 보기\n",
    "print(df.tail(4))\n",
    "\n",
    "# '학번'에 해당되는 열을 보기\n",
    "print(df['학번'])"
   ]
  },
  {
   "cell_type": "markdown",
   "id": "214dfb1e-6ccc-4a2f-b076-0d9e8f4d72a7",
   "metadata": {
    "tags": []
   },
   "source": [
    "### 5) 외부 데이터 읽기\n",
    "\n",
    "CSV, 텍스트, Excel, SQL, HTML, JSON 등 다양한 데이터 파일을 읽고 데이터 프레임을 생성"
   ]
  },
  {
   "cell_type": "code",
   "execution_count": 17,
   "id": "2bdceee5-c746-4521-9a1e-196042ae3884",
   "metadata": {
    "tags": []
   },
   "outputs": [
    {
     "name": "stdout",
     "output_type": "stream",
     "text": [
      "   student id       name   score\n",
      "0        1000      Steve   90.72\n",
      "1        1001      James   78.09\n",
      "2        1002     Doyeon   98.43\n",
      "3        1003       Jane   64.19\n",
      "4        1004   Pilwoong   81.30\n",
      "5        1005       Tony   99.14\n"
     ]
    }
   ],
   "source": [
    "# csv를 읽고 데이터 프레임 생성\n",
    "\n",
    "df = pd.read_csv('example.csv')\n",
    "print(df)"
   ]
  },
  {
   "cell_type": "code",
   "execution_count": 19,
   "id": "49be012f-0458-4aea-bfd1-ff4b78e0a4b3",
   "metadata": {
    "tags": []
   },
   "outputs": [
    {
     "name": "stdout",
     "output_type": "stream",
     "text": [
      "   student id      name  score\n",
      "0         100      Tony  90.72\n",
      "1         101  Pilwoong  98.43\n",
      "2         102      Jane  64.19\n",
      "3         103    Doyeon  81.30\n",
      "4         104     James  99.14\n",
      "5         105     Steve  78.09\n"
     ]
    }
   ],
   "source": [
    "# json를 읽고 데이터 프레임 생성\n",
    "\n",
    "df = pd.read_json('example.json')\n",
    "print(df)"
   ]
  },
  {
   "cell_type": "code",
   "execution_count": null,
   "id": "e6d4f40f-0bbe-4b9d-b362-d16615d8352d",
   "metadata": {},
   "outputs": [],
   "source": []
  }
 ],
 "metadata": {
  "kernelspec": {
   "display_name": "bigdata_recom",
   "language": "python",
   "name": "python-wicritok"
  },
  "language_info": {
   "codemirror_mode": {
    "name": "ipython",
    "version": 3
   },
   "file_extension": ".py",
   "mimetype": "text/x-python",
   "name": "python",
   "nbconvert_exporter": "python",
   "pygments_lexer": "ipython3",
   "version": "3.9.10"
  }
 },
 "nbformat": 4,
 "nbformat_minor": 5
}
